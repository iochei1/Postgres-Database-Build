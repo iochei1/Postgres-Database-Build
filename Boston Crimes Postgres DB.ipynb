{
 "cells": [
  {
   "cell_type": "markdown",
   "metadata": {},
   "source": [
    "## Data Engineering: Boston Crime Database with Postgres\n",
    "\n",
    "For this project, we will be creating a crime database with the `boston.csv` text file. The purpose is to demonstrate the ability to create a database and table within the Postgres as well as creating user with the least-privilidge permissions necessary for that user. The database to be created will be stored within the `crimes` schema that will also be created to store the tables."
   ]
  },
  {
   "cell_type": "code",
   "execution_count": 3,
   "metadata": {},
   "outputs": [],
   "source": [
    "# establish packages\n",
    "\n",
    "import pandas as pd\n",
    "import csv\n",
    "import psycopg2\n",
    "import numpy as np"
   ]
  },
  {
   "cell_type": "code",
   "execution_count": 41,
   "metadata": {},
   "outputs": [
    {
     "ename": "SyntaxError",
     "evalue": "syntax error at or near \"NOT\"\nLINE 1: CREATE DATABASE IF NOT EXISTS crime_db\n                           ^\n",
     "output_type": "error",
     "traceback": [
      "\u001b[0;31m---------------------------------------------------------------------------\u001b[0m",
      "\u001b[0;31mSyntaxError\u001b[0m                               Traceback (most recent call last)",
      "\u001b[0;32m<ipython-input-41-0b1fc4296798>\u001b[0m in \u001b[0;36m<module>\u001b[0;34m\u001b[0m\n\u001b[1;32m      5\u001b[0m \u001b[0;31m# turn auto commit on to establish\u001b[0m\u001b[0;34m\u001b[0m\u001b[0;34m\u001b[0m\u001b[0;34m\u001b[0m\u001b[0m\n\u001b[1;32m      6\u001b[0m \u001b[0mconn\u001b[0m\u001b[0;34m.\u001b[0m\u001b[0mautocommit\u001b[0m \u001b[0;34m=\u001b[0m \u001b[0;32mTrue\u001b[0m\u001b[0;34m\u001b[0m\u001b[0;34m\u001b[0m\u001b[0m\n\u001b[0;32m----> 7\u001b[0;31m \u001b[0mcur\u001b[0m\u001b[0;34m.\u001b[0m\u001b[0mexecute\u001b[0m\u001b[0;34m(\u001b[0m\u001b[0;34m'CREATE DATABASE IF NOT EXISTS crime_db'\u001b[0m\u001b[0;34m)\u001b[0m\u001b[0;34m\u001b[0m\u001b[0;34m\u001b[0m\u001b[0m\n\u001b[0m\u001b[1;32m      8\u001b[0m \u001b[0mconn\u001b[0m\u001b[0;34m.\u001b[0m\u001b[0mautocommit\u001b[0m \u001b[0;34m=\u001b[0m \u001b[0;32mFalse\u001b[0m\u001b[0;34m\u001b[0m\u001b[0;34m\u001b[0m\u001b[0m\n\u001b[1;32m      9\u001b[0m \u001b[0mconn\u001b[0m\u001b[0;34m.\u001b[0m\u001b[0mclose\u001b[0m\u001b[0;34m(\u001b[0m\u001b[0;34m)\u001b[0m\u001b[0;34m\u001b[0m\u001b[0;34m\u001b[0m\u001b[0m\n",
      "\u001b[0;31mSyntaxError\u001b[0m: syntax error at or near \"NOT\"\nLINE 1: CREATE DATABASE IF NOT EXISTS crime_db\n                           ^\n"
     ]
    }
   ],
   "source": [
    "# connect to the dataquest postgres database\n",
    "\n",
    "conn = psycopg2.connect(dbname = 'dq', user='dq')\n",
    "cur = conn.cursor()\n",
    "# turn auto commit on to establish \n",
    "conn.autocommit = True\n",
    "cur.execute('CREATE DATABASE crime_db')\n",
    "conn.autocommit = False\n",
    "conn.close()"
   ]
  },
  {
   "cell_type": "code",
   "execution_count": 28,
   "metadata": {},
   "outputs": [],
   "source": [
    "# connect to crime_db, this database will be use throuhout the rest of the database \n",
    "conn2 = psycopg2.connect(dbname = 'crime_db', user = 'dq')\n",
    "cur2 = conn2.cursor()\n",
    "\n",
    "# create schema for crimes_db\n",
    "cur2.execute('CREATE SCHEMA crimes;')\n",
    "conn2.commit()"
   ]
  },
  {
   "cell_type": "code",
   "execution_count": 19,
   "metadata": {},
   "outputs": [
    {
     "name": "stdout",
     "output_type": "stream",
     "text": [
      "['incident_number', 'offense_code', 'description', 'date', 'day_of_the_week', 'lat', 'long']\n",
      "['1', '619', 'LARCENY ALL OTHERS', '2018-09-02', 'Sunday', '42.35779134', '-71.13937053']\n"
     ]
    }
   ],
   "source": [
    "\"\"\"analyze the boston.csv file to understand the datatypes needed to create \n",
    "the postgres table to which it will be stored \"\"\"\n",
    "\n",
    "with open('boston.csv') as file:\n",
    "    reader = list(csv.reader(file))\n",
    "    header = reader[0]\n",
    "    first_row = reader[1]\n",
    "\n",
    "print(header)\n",
    "print(first_row)"
   ]
  },
  {
   "cell_type": "code",
   "execution_count": 20,
   "metadata": {},
   "outputs": [
    {
     "name": "stdout",
     "output_type": "stream",
     "text": [
      "0\tincident_number\t298329\n",
      "1\toffense_code\t219\n",
      "2\tdescription\t239\n",
      "3\tdate\t1177\n",
      "4\tday_of_the_week\t7\n",
      "5\tlat\t18177\n",
      "6\tlong\t18177\n"
     ]
    }
   ],
   "source": [
    "# get python value set\n",
    "\n",
    "def get_col_set(csv_file, col_index):\n",
    "    values = set()\n",
    "    with open(csv_file) as file:\n",
    "        next(file)\n",
    "        reader = csv.reader(file)\n",
    "        for row in reader:\n",
    "            values.add(row[col_index])\n",
    "    return values\n",
    "    \n",
    "for i in range(len(header)):\n",
    "    values = get_col_set('boston.csv', i)\n",
    "    print(i, header[i], len(values), sep='\\t')\n",
    "        \n",
    "       "
   ]
  },
  {
   "cell_type": "code",
   "execution_count": 21,
   "metadata": {},
   "outputs": [
    {
     "data": {
      "text/plain": [
       "58"
      ]
     },
     "execution_count": 21,
     "metadata": {},
     "output_type": "execute_result"
    }
   ],
   "source": [
    "col_values = get_col_set('boston.csv', 2)\n",
    "max_value = 0\n",
    "for i in col_values:\n",
    "    if len(i) > max_value:\n",
    "        max_value = len(i)\n",
    "max_value"
   ]
  },
  {
   "cell_type": "markdown",
   "metadata": {},
   "source": [
    "After determining the index for the description column, we looped through the descriptions column to determine the the max length for each distinct value available for the this column. The max character value count was determined to be 58. We have determined the appropriate variables to create the postgres table within our `crimes_db`"
   ]
  },
  {
   "cell_type": "markdown",
   "metadata": {},
   "source": [
    "### Creating tables within the Crimes Schema "
   ]
  },
  {
   "cell_type": "markdown",
   "metadata": {},
   "source": [
    "We will create the following enumerate type for the weekdays seeing that it will consist of no more than 7 distinct values. With those values Wednesday has larger total of characters in a given value. To do that, we used the get_col_set and will recall the header as well as first row of our csv file."
   ]
  },
  {
   "cell_type": "code",
   "execution_count": 9,
   "metadata": {},
   "outputs": [
    {
     "name": "stdout",
     "output_type": "stream",
     "text": [
      "['incident_number', 'offense_code', 'description', 'date', 'day_of_the_week', 'lat', 'long']\n",
      "['1', '619', 'LARCENY ALL OTHERS', '2018-09-02', 'Sunday', '42.35779134', '-71.13937053']\n"
     ]
    }
   ],
   "source": [
    "print(header)\n",
    "print(first_row)"
   ]
  },
  {
   "cell_type": "code",
   "execution_count": 10,
   "metadata": {},
   "outputs": [
    {
     "name": "stdout",
     "output_type": "stream",
     "text": [
      "{'Wednesday', 'Tuesday', 'Saturday', 'Monday', 'Friday', 'Thursday', 'Sunday'}\n"
     ]
    }
   ],
   "source": [
    "col_values = get_col_set('boston.csv', 4)\n",
    "max_value_week = 0\n",
    "for i in col_values:\n",
    "    if len(i) > max_value_week:\n",
    "        max_value_week = len(i)\n",
    "print(col_values)"
   ]
  },
  {
   "cell_type": "code",
   "execution_count": 25,
   "metadata": {},
   "outputs": [],
   "source": [
    "cur2.execute(\"CREATE TYPE Weekdays AS ENUM ('Monday', 'Saturday', 'Friday', 'Thursday', 'Tuesday', 'Sunday', 'Wednesday')\")"
   ]
  },
  {
   "cell_type": "markdown",
   "metadata": {},
   "source": [
    "-------------------------------------\n",
    "| Tables | Type Description |\n",
    "------------|---------|\n",
    "| incident_number | INT PRIMARY KEY\n",
    "| offense_code\t| INT\n",
    "| description |\tTEXT\n",
    "| date  |\tDATE\n",
    "| day_of_the_week | Weekdays\n",
    "| lat | Decimal\n",
    "| long| Decimal"
   ]
  },
  {
   "cell_type": "code",
   "execution_count": 32,
   "metadata": {},
   "outputs": [],
   "source": [
    "# Create database within the crimes schema\n",
    "cur2.execute(\"rollback;\")\n",
    "cur2.execute(\"\"\"CREATE TABLE IF NOT EXISTS crimes.boston_crimes ( \n",
    "                            incident_number INTEGER PRIMARY KEY,\n",
    "                            offense_code INTEGER,\n",
    "                            description varchar(100),\n",
    "                            date DATE,\n",
    "                            day_of_the_week Weekdays,\n",
    "                            lat DECIMAL,\n",
    "                            long DECIMAL );\"\"\")\n",
    "\n",
    "conn2.commit()\n"
   ]
  },
  {
   "cell_type": "markdown",
   "metadata": {},
   "source": [
    "### Importing `boston.csv` data into our new `boston_crimes` table\n",
    "\n",
    "Now that we have created our boston_crimes table within the crimes schema, it is now time to import the `boston.csv`. There are a few options to be used for this step. However it is suggested to use the .copy_exper module to perform this process as it is efficient compared to iterating over each line to copy into the database \n",
    "\n",
    "example of import\n",
    "\n",
    "`with open(\"filename.csv\") as f:\n",
    "    cur.copy_expert(\"COPY table_name FROM STDIN WITH CSV HEADER;\", f) `\n"
   ]
  },
  {
   "cell_type": "code",
   "execution_count": 36,
   "metadata": {},
   "outputs": [],
   "source": [
    "with open('boston.csv') as f: \n",
    "    cur2.copy_expert(\"COPY crimes.boston_crimes FROM STDIN WITH CSV HEADER;\", f)"
   ]
  },
  {
   "cell_type": "code",
   "execution_count": 61,
   "metadata": {},
   "outputs": [
    {
     "data": {
      "text/plain": [
       "[(1,\n",
       "  619,\n",
       "  'LARCENY ALL OTHERS',\n",
       "  datetime.date(2018, 9, 2),\n",
       "  'Sunday',\n",
       "  Decimal('42.35779134'),\n",
       "  Decimal('-71.13937053')),\n",
       " (2,\n",
       "  1402,\n",
       "  'VANDALISM',\n",
       "  datetime.date(2018, 8, 21),\n",
       "  'Tuesday',\n",
       "  Decimal('42.30682138'),\n",
       "  Decimal('-71.06030035')),\n",
       " (3,\n",
       "  3410,\n",
       "  'TOWED MOTOR VEHICLE',\n",
       "  datetime.date(2018, 9, 3),\n",
       "  'Monday',\n",
       "  Decimal('42.34658879'),\n",
       "  Decimal('-71.07242943')),\n",
       " (4,\n",
       "  3114,\n",
       "  'INVESTIGATE PROPERTY',\n",
       "  datetime.date(2018, 9, 3),\n",
       "  'Monday',\n",
       "  Decimal('42.33418175'),\n",
       "  Decimal('-71.07866441')),\n",
       " (5,\n",
       "  3114,\n",
       "  'INVESTIGATE PROPERTY',\n",
       "  datetime.date(2018, 9, 3),\n",
       "  'Monday',\n",
       "  Decimal('42.27536542'),\n",
       "  Decimal('-71.09036101'))]"
      ]
     },
     "execution_count": 61,
     "metadata": {},
     "output_type": "execute_result"
    }
   ],
   "source": [
    "# Review loaded data by performing SELECT statement\n",
    "\n",
    "cur2.execute(\"SELECT * FROM crimes.boston_crimes;\")\n",
    "cur2.fetchmany(5)"
   ]
  },
  {
   "cell_type": "markdown",
   "metadata": {},
   "source": [
    "## Database and Table Permissions\n",
    "\n",
    "The next step in establishing our database, tables and schemas are to establish permissions amongst users. To do so, we will utilize both the `GRANT` and `REVOKE` commands. The most efficient method to grant or revoke permission for several current and future users is to create user groups. We can establish permissions of the user groups and will add users to those groups to automatically establish what access the user has for Databases and Tables."
   ]
  },
  {
   "cell_type": "markdown",
   "metadata": {},
   "source": [
    "#### First step to prevent inadvertently retrieving priviliges from the public user group"
   ]
  },
  {
   "cell_type": "code",
   "execution_count": 43,
   "metadata": {},
   "outputs": [],
   "source": [
    "# Revoke all public group access from the public schema in Postgres\n",
    "cur2.execute(\"REVOKE ALL ON SCHEMA public from public;\")\n",
    "\n",
    "# Revoke all access from the crime_db database on the schema group\n",
    "cur2.execute(\"REVOKE ALL ON DATABASE crime_db from public;\")"
   ]
  },
  {
   "cell_type": "markdown",
   "metadata": {},
   "source": [
    "#### Next, create user groups and provide grant and revoke permissions\n",
    "\n",
    "**readonly:** group intended to perform `SELECT` queries on the following database\n",
    "\n",
    "**readwrite:** group that has the ability to perform -- `SELECT, INSERT, DELETE and UPDATE queries.`"
   ]
  },
  {
   "cell_type": "code",
   "execution_count": 44,
   "metadata": {},
   "outputs": [],
   "source": [
    "# create read only group\n",
    "cur2.execute(\"CREATE GROUP readonly NOLOGIN;\")\n",
    "\n",
    "# create read write group\n",
    "cur2.execute(\"CREATE GROUP readwrite NOLOGIN;\")"
   ]
  },
  {
   "cell_type": "code",
   "execution_count": 47,
   "metadata": {},
   "outputs": [],
   "source": [
    "# Grant connection Access to the readwrite and readonly group\n",
    "cur2.execute(\"GRANT CONNECT ON  DATABASE crime_db to readonly;\")\n",
    "cur2.execute(\"GRANT CONNECT ON DATABASE crime_db to readwrite;\")\n",
    "\n",
    "# Grant USAGE on the crimes SCHEMA\n",
    "cur2.execute(\"GRANT USAGE on SCHEMA crimes to readonly;\")\n",
    "cur2.execute(\"GRANT USAGE on SCHEMA crimes to readwrite;\")"
   ]
  },
  {
   "cell_type": "code",
   "execution_count": 49,
   "metadata": {},
   "outputs": [],
   "source": [
    "#Grant SELECT access to all tables in Crimes schema for readonly\n",
    "\n",
    "cur2.execute(\"GRANT SELECT on ALL TABLES IN SCHEMA crimes to readonly;\")\n",
    "\n",
    "# Grant SELECT, INSERT, DELETE and UPDATE on all tables in Crimes Schema for readwrite\n",
    "cur2.execute(\"GRANT SELECT, INSERT, DELETE,UPDATE on ALL TABLES IN SCHEMA crimes to readwrite;\")"
   ]
  },
  {
   "cell_type": "markdown",
   "metadata": {},
   "source": [
    "#### Finally, create users and assign to the appropriate user groups created\n",
    "\n",
    "users to create: \n",
    "\n",
    "- `data_analyst`\n",
    "- `data_scientist`"
   ]
  },
  {
   "cell_type": "code",
   "execution_count": 50,
   "metadata": {},
   "outputs": [],
   "source": [
    "# create data analyst user\n",
    "cur2.execute(\"CREATE USER data_analyst WITH PASSWORD 'secret1';\")\n",
    "\n",
    "#assign data analyst to readonly user group\n",
    "cur2.execute(\"GRANT readonly to data_analyst;\")\n",
    "\n",
    "# create data scientist user\n",
    "cur2.execute(\"CREATE USER data_scientist WITH PASSWORD 'secret2';\")\n",
    "\n",
    "#assign data scientist to readwrite user group\n",
    "cur2.execute(\"GRANT readwrite to data_scientist;\")"
   ]
  },
  {
   "cell_type": "markdown",
   "metadata": {},
   "source": [
    "### Test configuration and updated user permissions\n",
    "\n",
    "Now that we have configured the appropriate groups and users, we will review if those updates were made by using the following queries for `readonly` and `readwrite`\n"
   ]
  },
  {
   "cell_type": "code",
   "execution_count": 59,
   "metadata": {},
   "outputs": [
    {
     "data": {
      "text/plain": [
       "[('dq', 'readwrite', 'boston_crimes', 'INSERT'),\n",
       " ('dq', 'readwrite', 'boston_crimes', 'SELECT'),\n",
       " ('dq', 'readwrite', 'boston_crimes', 'UPDATE'),\n",
       " ('dq', 'readwrite', 'boston_crimes', 'DELETE')]"
      ]
     },
     "execution_count": 59,
     "metadata": {},
     "output_type": "execute_result"
    }
   ],
   "source": [
    "# review users with 'readwrite access'\n",
    "cur2.execute(\"\"\"SELECT grantor, grantee, table_name, privilege_type\n",
    "    FROM information_schema.table_privileges\n",
    "    WHERE grantee = 'readwrite';\"\"\")\n",
    "cur2.fetchall()\n",
    "\n",
    "\n"
   ]
  },
  {
   "cell_type": "code",
   "execution_count": 60,
   "metadata": {},
   "outputs": [
    {
     "data": {
      "text/plain": [
       "[('dq', 'readonly', 'boston_crimes', 'SELECT')]"
      ]
     },
     "execution_count": 60,
     "metadata": {},
     "output_type": "execute_result"
    }
   ],
   "source": [
    "# review users with 'readonly access'\n",
    "cur2.execute(\"\"\"SELECT grantor, grantee, table_name, privilege_type\n",
    "    FROM information_schema.table_privileges\n",
    "    WHERE grantee = 'readonly';\"\"\")\n",
    "cur2.fetchall()\n"
   ]
  },
  {
   "cell_type": "code",
   "execution_count": null,
   "metadata": {},
   "outputs": [],
   "source": []
  }
 ],
 "metadata": {
  "kernelspec": {
   "display_name": "Python 3",
   "language": "python",
   "name": "python3"
  },
  "language_info": {
   "codemirror_mode": {
    "name": "ipython",
    "version": 3
   },
   "file_extension": ".py",
   "mimetype": "text/x-python",
   "name": "python",
   "nbconvert_exporter": "python",
   "pygments_lexer": "ipython3",
   "version": "3.8.2"
  }
 },
 "nbformat": 4,
 "nbformat_minor": 2
}
